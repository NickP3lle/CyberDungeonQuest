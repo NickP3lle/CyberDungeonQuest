{
 "cells": [
  {
   "cell_type": "code",
   "execution_count": 117,
   "metadata": {},
   "outputs": [],
   "source": [
    "from binascii import hexlify, unhexlify\n",
    "from string import printable\n",
    "from random import randint\n",
    "from Crypto.Cipher import AES\n",
    "\n",
    "BLOCK = 16"
   ]
  },
  {
   "cell_type": "code",
   "execution_count": 118,
   "metadata": {},
   "outputs": [],
   "source": [
    "def pad(s):\n",
    "    return s + (BLOCK - len(s) % BLOCK) * chr(BLOCK - len(s) % BLOCK)"
   ]
  },
  {
   "cell_type": "code",
   "execution_count": 119,
   "metadata": {},
   "outputs": [],
   "source": [
    "def randkey():\n",
    "    return \"\".join([printable[randint(0, len(printable)-8)] for _ in range(BLOCK)]).encode()\n",
    "\n",
    "randkey = randkey()\n",
    "\n",
    "cipher = AES.new(randkey, AES.MODE_ECB)"
   ]
  },
  {
   "cell_type": "code",
   "execution_count": 120,
   "metadata": {},
   "outputs": [
    {
     "name": "stdout",
     "output_type": "stream",
     "text": [
      "Password hex: 63e4a0a37ea3d664fe5734f1ba1da28268559f52d9e48704b1859b903369b0df00065f6ed6407506a1072b1441f8b77d\n"
     ]
    }
   ],
   "source": [
    "password = \"12345678901234567890123456789012\"\n",
    "\n",
    "padded = pad(password)\n",
    "\n",
    "password = padded.encode()\n",
    "\n",
    "cipher_text = cipher.encrypt(password)\n",
    "\n",
    "password = hexlify(cipher_text).decode()\n",
    "print(f\"Password hex: {password}\")"
   ]
  },
  {
   "cell_type": "markdown",
   "metadata": {},
   "source": [
    "We can notice that trying to encrypt a password 17 chars long the lenght of the encrypted password changes. Also, we know that the pad function adds a whole block of padding only when the password + FLAG is longer than the block. This means that if our password is 16 chars then the message, password + FLAG, doesn't have any padding.\n",
    "\n",
    "Running our own tests we can se that the length of the encrypted password has the same lenght of the case described before when the password + FLAG is 32 chars long.  This means that the FLAG is 32 - 16 = 16 chars long. \n",
    "\n",
    "This is the scenario for the ECB Oracle Attack!"
   ]
  },
  {
   "cell_type": "code",
   "execution_count": 121,
   "metadata": {},
   "outputs": [
    {
     "name": "stdout",
     "output_type": "stream",
     "text": [
      "[x] Opening connection to padding.challs.cyberchallenge.it on port 9030\n",
      "[x] Opening connection to padding.challs.cyberchallenge.it on port 9030: Trying 5.75.232.207\n",
      "[+] Opening connection to padding.challs.cyberchallenge.it on port 9030: Done\n"
     ]
    },
    {
     "name": "stderr",
     "output_type": "stream",
     "text": [
      "/opt/homebrew/anaconda3/lib/python3.11/site-packages/pwnlib/tubes/tube.py:841: BytesWarning: Text is not bytes; assuming ASCII, no guarantees. See https://docs.pwntools.com/#bytes\n",
      "  res = self.recvuntil(delim, timeout=timeout)\n"
     ]
    },
    {
     "name": "stdout",
     "output_type": "stream",
     "text": [
      "Iteration 1, line: Here is you secure encrypted password: ff6a306b866ffa4f104dc0b6534367046c7d5afe9b76c7ffa2cab1f25b8b2c06c8e7e1e8ab3bf45933728240d9615f20\n",
      "Flag: \n",
      "Iteration 2, line: Here is you secure encrypted password: 39ce314463809c2de623fe1c19eead9ec2a9f58d898e5117cc29f6d3200c39cf3b4dc7fab9b3dbb8a8e22ca2cda79583\n",
      "Flag: C\n",
      "Iteration 3, line: Here is you secure encrypted password: 29ba3c2d9433dce6ca5441d00b7b01d3a4740f6934b3919e87e8d207bbaf1dd64a7b596607ac454c7d03e846db2db1a3\n",
      "Flag: CC\n",
      "Iteration 4, line: Here is you secure encrypted password: bf94c7862f58936f510aac6fa8ca1558d70ed27233d88b1d02ca513df8b373c8fc76397d46544a8a8601626c328ececc\n",
      "Flag: CCI\n",
      "Iteration 5, line: Here is you secure encrypted password: c75f184a4777991b03b1fa67e0a300f20de34c751ce80a7a545841a82e869aa7b136cb3f2d7b89032ec1b3b0e26a572e\n",
      "Flag: CCIT\n",
      "Iteration 6, line: Here is you secure encrypted password: b44566ec40b704078391f21d8721988787274cdee6e31e05190c510fd21c33ea0d4ab46d812eec7eb20753075a55030c\n",
      "Flag: CCIT{\n",
      "Iteration 7, line: Here is you secure encrypted password: ca8bee469c68fcd77f525b27dd239e4254b7731f6954bbe8ccea394ee6ee0e9ba6adf74b7d460b2239c8a55ce1cd71fc\n",
      "Flag: CCIT{r\n",
      "Iteration 8, line: Here is you secure encrypted password: 4edfdadc4dd479d9b219989da5e33b0abea1bffa1e5055a4de07c9da54f74db600f3da88ab9b7d729a4fa037337f6674\n",
      "Flag: CCIT{r3\n",
      "Iteration 9, line: Here is you secure encrypted password: 4c2eb181a9051b3b45919128025b94aba8b740d445fe55cfe1e3d49ebef8f60b29dde6a21f1c5ed66e5599b1db8554ad\n",
      "Flag: CCIT{r3m\n",
      "Iteration 10, line: Here is you secure encrypted password: 82fc7b1549563ee6497af3df35fadfbf16f604fa3f26c83df180c50638297a3673328179919af1f8ec57ce25d7f0372a\n",
      "Flag: CCIT{r3m3\n",
      "Iteration 11, line: Here is you secure encrypted password: 8d10c1a8276395a1ebfef80f6b3137f20f401af523f06ddcf3bddec353d4e7ec1c63ec8cf40521108b72e8d2ccdb24f2\n",
      "Flag: CCIT{r3m3m\n",
      "Iteration 12, line: Here is you secure encrypted password: 38ef9dd1448b57748b5d07cc8f4259f7216cb6bb7b2d929185ac5ccd0c5e2923120d64c07cefaf21b35a4eae2c3cbb73\n",
      "Flag: CCIT{r3m3mb\n",
      "Iteration 13, line: Here is you secure encrypted password: e7ae1f73ac4fd34f794d31dfad79aded3770c0b16b4952243c0d936a3bb05c1d1fb84988e082d9ddd5072dd3c5576cd1\n",
      "Flag: CCIT{r3m3mb3\n",
      "Iteration 14, line: Here is you secure encrypted password: 0a75e346a7e33189c793f9814b7719d0ad06b4cda08f316bd2fedd21ee991cc541946ea242aa04a665711b617101ac19\n",
      "Flag: CCIT{r3m3mb3r\n",
      "Iteration 15, line: Here is you secure encrypted password: 9e0472297ad6910086bdd7d545cee4bb1d6154c146b9d3b365be2fcc50980e05b7c77285d304242dcf774ccead565abf\n",
      "Flag: CCIT{r3m3mb3r_\n",
      "Iteration 16, line: Here is you secure encrypted password: 82f63bdf9755627cdd162d2df6468d7d95c4a5b0debc0b6e80d57449317e46a0\n",
      "Flag: CCIT{r3m3mb3r_t\n",
      "Flag: CCIT{r3m3mb3r_th\n",
      "[*] Closed connection to padding.challs.cyberchallenge.it port 9030\n"
     ]
    }
   ],
   "source": [
    "from pwn import remote\n",
    "\n",
    "r = remote('padding.challs.cyberchallenge.it', 9030)\n",
    "\n",
    "flag = \"\"\n",
    "\n",
    "for i in range(BLOCK - 1, -1, -1):\n",
    "    to_send = \"A\" * i\n",
    "    \n",
    "    r.sendlineafter(\"Give me the password to encrypt:\", to_send.encode())\n",
    "    \n",
    "    line = r.recvline().strip().decode()\n",
    "    print(f\"Iteration {BLOCK - i}, line: {line}\")\n",
    "    print(f\"Flag: {flag}\")\n",
    "    \n",
    "    colon_index = line.index(':')\n",
    "    \n",
    "    enc = line[colon_index + 2: colon_index + 2 + BLOCK * 2]\n",
    "\n",
    "    r.recvline()\n",
    "    \n",
    "    for j in printable:\n",
    "        # send string of len i + flag + j\n",
    "        \n",
    "        r.sendlineafter(\"Give me the password to encrypt:\", (to_send + flag + j).encode())\n",
    "\n",
    "        line = r.recvline().strip().decode()\n",
    "\n",
    "        colon_index = line.index(':')\n",
    "\n",
    "        compare = line[colon_index + 2: colon_index + 2 + BLOCK * 2]\n",
    "\n",
    "        r.recvline()\n",
    "        \n",
    "        if compare == enc:\n",
    "            flag += j\n",
    "            break\n",
    "\n",
    "print(f\"Flag: {flag}\")\n",
    "\n",
    "r.close()\n",
    "\n",
    "# flag: CCIT{r3m3mb3r_th"
   ]
  },
  {
   "cell_type": "markdown",
   "metadata": {},
   "source": [
    "Well, that's the flag... but it's not complete.\n",
    "Doubling the block gives the full flag."
   ]
  },
  {
   "cell_type": "code",
   "execution_count": 122,
   "metadata": {},
   "outputs": [],
   "source": [
    "BLOCK = 32\n",
    "\n",
    "# CCIT{r3m3mb3r_th3_3cb_p3ngu1n?}"
   ]
  }
 ],
 "metadata": {
  "kernelspec": {
   "display_name": "base",
   "language": "python",
   "name": "python3"
  },
  "language_info": {
   "codemirror_mode": {
    "name": "ipython",
    "version": 3
   },
   "file_extension": ".py",
   "mimetype": "text/x-python",
   "name": "python",
   "nbconvert_exporter": "python",
   "pygments_lexer": "ipython3",
   "version": "3.11.8"
  }
 },
 "nbformat": 4,
 "nbformat_minor": 2
}
